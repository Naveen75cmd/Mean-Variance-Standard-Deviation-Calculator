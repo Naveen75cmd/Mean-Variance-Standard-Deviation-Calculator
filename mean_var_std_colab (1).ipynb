{
  "cells": [
    {
      "cell_type": "markdown",
      "metadata": {
        "id": "acgnd1HVgvpS"
      },
      "source": [
        "# Mean-Variance-Standard Deviation Calculator\n"
      ]
    },
    {
      "cell_type": "code",
      "execution_count": 1,
      "metadata": {
        "id": "_jlCyghwgvpW"
      },
      "outputs": [],
      "source": [
        "import numpy as np\n",
        "\n",
        "def calculate(list_input):\n",
        "    if len(list_input) != 9:\n",
        "        raise ValueError(\"List must contain nine numbers.\")\n",
        "\n",
        "    matrix = np.array(list_input).reshape(3, 3)\n",
        "\n",
        "    calculations = {\n",
        "        'mean': [\n",
        "            matrix.mean(axis=0).tolist(),\n",
        "            matrix.mean(axis=1).tolist(),\n",
        "            matrix.mean().item()\n",
        "        ],\n",
        "        'variance': [\n",
        "            matrix.var(axis=0).tolist(),\n",
        "            matrix.var(axis=1).tolist(),\n",
        "            matrix.var().item()\n",
        "        ],\n",
        "        'standard deviation': [\n",
        "            matrix.std(axis=0).tolist(),\n",
        "            matrix.std(axis=1).tolist(),\n",
        "            matrix.std().item()\n",
        "        ],\n",
        "        'max': [\n",
        "            matrix.max(axis=0).tolist(),\n",
        "            matrix.max(axis=1).tolist(),\n",
        "            matrix.max().item()\n",
        "        ],\n",
        "        'min': [\n",
        "            matrix.min(axis=0).tolist(),\n",
        "            matrix.min(axis=1).tolist(),\n",
        "            matrix.min().item()\n",
        "        ],\n",
        "        'sum': [\n",
        "            matrix.sum(axis=0).tolist(),\n",
        "            matrix.sum(axis=1).tolist(),\n",
        "            matrix.sum().item()\n",
        "        ]\n",
        "    }\n",
        "\n",
        "    return calculations"
      ]
    },
    {
      "cell_type": "code",
      "execution_count": 2,
      "metadata": {
        "colab": {
          "base_uri": "https://localhost:8080/"
        },
        "id": "XPKPGgTEgvpZ",
        "outputId": "e6a161cb-9033-4e8d-cff7-b98decb164c2"
      },
      "outputs": [
        {
          "output_type": "stream",
          "name": "stdout",
          "text": [
            "{'mean': [[3.0, 4.0, 5.0], [1.0, 4.0, 7.0], 4.0], 'variance': [[6.0, 6.0, 6.0], [0.6666666666666666, 0.6666666666666666, 0.6666666666666666], 6.666666666666667], 'standard deviation': [[2.449489742783178, 2.449489742783178, 2.449489742783178], [0.816496580927726, 0.816496580927726, 0.816496580927726], 2.581988897471611], 'max': [[6, 7, 8], [2, 5, 8], 8], 'min': [[0, 1, 2], [0, 3, 6], 0], 'sum': [[9, 12, 15], [3, 12, 21], 36]}\n"
          ]
        }
      ],
      "source": [
        "# Manual test (like main.py)\n",
        "print(calculate([0,1,2,3,4,5,6,7,8]))"
      ]
    },
    {
      "cell_type": "code",
      "execution_count": 3,
      "metadata": {
        "colab": {
          "base_uri": "https://localhost:8080/"
        },
        "id": "9YReovVvgvpa",
        "outputId": "70768309-646f-43df-b851-eb34151ca3ef"
      },
      "outputs": [
        {
          "output_type": "stream",
          "name": "stderr",
          "text": [
            "test_calculate (__main__.UnitTests.test_calculate) ... FAIL\n",
            "test_calculate_with_few_numbers (__main__.UnitTests.test_calculate_with_few_numbers) ... ok\n",
            "\n",
            "======================================================================\n",
            "FAIL: test_calculate (__main__.UnitTests.test_calculate)\n",
            "----------------------------------------------------------------------\n",
            "Traceback (most recent call last):\n",
            "  File \"/tmp/ipython-input-2132618911.py\", line 26, in test_calculate\n",
            "    self.assertAlmostEqual(actual[key][1][i], expected[key][1][i], places=8, msg=key + \" key failed\")\n",
            "AssertionError: 3.555555555555556 != 4.222222222222222 within 8 places (0.6666666666666665 difference) : variance key failed\n",
            "\n",
            "----------------------------------------------------------------------\n",
            "Ran 2 tests in 0.003s\n",
            "\n",
            "FAILED (failures=1)\n"
          ]
        },
        {
          "output_type": "execute_result",
          "data": {
            "text/plain": [
              "<unittest.main.TestProgram at 0x7a201c6654f0>"
            ]
          },
          "metadata": {},
          "execution_count": 3
        }
      ],
      "source": [
        "# Unit tests (like test_module.py)\n",
        "import unittest\n",
        "\n",
        "class UnitTests(unittest.TestCase):\n",
        "    def test_calculate(self):\n",
        "        actual = calculate([2,6,2,8,4,0,1,5,7])\n",
        "        expected = {\n",
        "            'mean': [[3.6666666666666665, 5.0, 3.0],\n",
        "                     [3.3333333333333335, 4.0, 4.333333333333333],\n",
        "                     3.888888888888889],\n",
        "            'variance': [[9.555555555555555, 0.6666666666666666, 8.666666666666666],\n",
        "                         [4.222222222222222, 10.666666666666666, 6.222222222222221],\n",
        "                         6.987654320987654],\n",
        "            'standard deviation': [[3.0912061651652345, 0.816496580927726, 2.943920288775949],\n",
        "                                   [2.0548046676563256, 3.265986323710904, 2.494438257849294],\n",
        "                                   2.6434171674156266],\n",
        "            'max': [[8, 6, 7], [6, 8, 7], 8],\n",
        "            'min': [[1, 4, 0], [2, 0, 1], 0],\n",
        "            'sum': [[11, 15, 9], [10, 12, 13], 35]\n",
        "        }\n",
        "        for key in expected:\n",
        "            self.assertAlmostEqual(actual[key][2], expected[key][2], places=8, msg=key + \" key failed\")\n",
        "            for i in range(len(expected[key][0])):\n",
        "                self.assertAlmostEqual(actual[key][0][i], expected[key][0][i], places=8, msg=key + \" key failed\")\n",
        "            for i in range(len(expected[key][1])):\n",
        "                self.assertAlmostEqual(actual[key][1][i], expected[key][1][i], places=8, msg=key + \" key failed\")\n",
        "\n",
        "    def test_calculate_with_few_numbers(self):\n",
        "        with self.assertRaises(ValueError) as context:\n",
        "            calculate([1,2,3,4,5,6,7,8])\n",
        "        self.assertEqual(str(context.exception), \"List must contain nine numbers.\")\n",
        "\n",
        "unittest.main(argv=[''], verbosity=2, exit=False)"
      ]
    }
  ],
  "metadata": {
    "colab": {
      "provenance": []
    },
    "kernelspec": {
      "display_name": "Python 3",
      "language": "python",
      "name": "python3"
    },
    "language_info": {
      "name": "python"
    }
  },
  "nbformat": 4,
  "nbformat_minor": 0
}